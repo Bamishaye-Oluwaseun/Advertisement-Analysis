{
 "cells": [
  {
   "cell_type": "code",
   "execution_count": 1,
   "id": "9adad763",
   "metadata": {},
   "outputs": [],
   "source": [
    "import pandas as pd\n",
    "import numpy as np\n",
    "import seaborn as sns\n",
    "sns.set_style('whitegrid')\n",
    "import matplotlib.pyplot as plt\n",
    "\n",
    "import warnings\n",
    "warnings.filterwarnings ('ignore')"
   ]
  },
  {
   "cell_type": "code",
   "execution_count": 2,
   "id": "9ec5452e",
   "metadata": {},
   "outputs": [
    {
     "data": {
      "text/html": [
       "<div>\n",
       "<style scoped>\n",
       "    .dataframe tbody tr th:only-of-type {\n",
       "        vertical-align: middle;\n",
       "    }\n",
       "\n",
       "    .dataframe tbody tr th {\n",
       "        vertical-align: top;\n",
       "    }\n",
       "\n",
       "    .dataframe thead th {\n",
       "        text-align: right;\n",
       "    }\n",
       "</style>\n",
       "<table border=\"1\" class=\"dataframe\">\n",
       "  <thead>\n",
       "    <tr style=\"text-align: right;\">\n",
       "      <th></th>\n",
       "      <th>Daily Time Spent on Site</th>\n",
       "      <th>Age</th>\n",
       "      <th>Area Income</th>\n",
       "      <th>Daily Internet Usage</th>\n",
       "      <th>Ad Topic Line</th>\n",
       "      <th>City</th>\n",
       "      <th>Male</th>\n",
       "      <th>Country</th>\n",
       "      <th>Timestamp</th>\n",
       "      <th>Clicked on Ad</th>\n",
       "    </tr>\n",
       "  </thead>\n",
       "  <tbody>\n",
       "    <tr>\n",
       "      <th>0</th>\n",
       "      <td>68.95</td>\n",
       "      <td>35</td>\n",
       "      <td>61833.90</td>\n",
       "      <td>256.09</td>\n",
       "      <td>Cloned 5thgeneration orchestration</td>\n",
       "      <td>Wrightburgh</td>\n",
       "      <td>0</td>\n",
       "      <td>Tunisia</td>\n",
       "      <td>2016-03-27 00:53:11</td>\n",
       "      <td>0</td>\n",
       "    </tr>\n",
       "    <tr>\n",
       "      <th>1</th>\n",
       "      <td>80.23</td>\n",
       "      <td>31</td>\n",
       "      <td>68441.85</td>\n",
       "      <td>193.77</td>\n",
       "      <td>Monitored national standardization</td>\n",
       "      <td>West Jodi</td>\n",
       "      <td>1</td>\n",
       "      <td>Nauru</td>\n",
       "      <td>2016-04-04 01:39:02</td>\n",
       "      <td>0</td>\n",
       "    </tr>\n",
       "  </tbody>\n",
       "</table>\n",
       "</div>"
      ],
      "text/plain": [
       "   Daily Time Spent on Site  Age  Area Income  Daily Internet Usage  \\\n",
       "0                     68.95   35     61833.90                256.09   \n",
       "1                     80.23   31     68441.85                193.77   \n",
       "\n",
       "                        Ad Topic Line         City  Male  Country  \\\n",
       "0  Cloned 5thgeneration orchestration  Wrightburgh     0  Tunisia   \n",
       "1  Monitored national standardization    West Jodi     1    Nauru   \n",
       "\n",
       "             Timestamp  Clicked on Ad  \n",
       "0  2016-03-27 00:53:11              0  \n",
       "1  2016-04-04 01:39:02              0  "
      ]
     },
     "execution_count": 2,
     "metadata": {},
     "output_type": "execute_result"
    }
   ],
   "source": [
    "data = pd.read_csv ('advertising.csv')\n",
    "data.head(2)"
   ]
  },
  {
   "cell_type": "code",
   "execution_count": 3,
   "id": "602eed3d",
   "metadata": {},
   "outputs": [
    {
     "name": "stdout",
     "output_type": "stream",
     "text": [
      "<class 'pandas.core.frame.DataFrame'>\n",
      "RangeIndex: 1000 entries, 0 to 999\n",
      "Data columns (total 10 columns):\n",
      " #   Column                    Non-Null Count  Dtype  \n",
      "---  ------                    --------------  -----  \n",
      " 0   Daily Time Spent on Site  1000 non-null   float64\n",
      " 1   Age                       1000 non-null   int64  \n",
      " 2   Area Income               1000 non-null   float64\n",
      " 3   Daily Internet Usage      1000 non-null   float64\n",
      " 4   Ad Topic Line             1000 non-null   object \n",
      " 5   City                      1000 non-null   object \n",
      " 6   Male                      1000 non-null   int64  \n",
      " 7   Country                   1000 non-null   object \n",
      " 8   Timestamp                 1000 non-null   object \n",
      " 9   Clicked on Ad             1000 non-null   int64  \n",
      "dtypes: float64(3), int64(3), object(4)\n",
      "memory usage: 78.2+ KB\n"
     ]
    }
   ],
   "source": [
    "data.info()"
   ]
  },
  {
   "cell_type": "markdown",
   "id": "477ad722",
   "metadata": {},
   "source": [
    "This data is an Advertisement dataset to monitor users who clicked on the ad and users who did not.\n",
    "\n",
    "In this dataset, we have record for a total of 1000-users holding the users:\n",
    "    \n",
    "    1. Daily time spent on site\n",
    "    2. Age\n",
    "    3. Area Income\n",
    "    4. Daily internet usage\n",
    "    5. Ad topic line\n",
    "    6. City\n",
    "    7. Gender\n",
    "    8. Timestamp\n",
    "    9. Whether or not User clicked on the Ad.\n",
    "    \n",
    "    We would be determining factor(s) that determines whether a user will click on the Ad or not"
   ]
  },
  {
   "cell_type": "code",
   "execution_count": 4,
   "id": "7b6bfa44",
   "metadata": {},
   "outputs": [
    {
     "data": {
      "text/html": [
       "<div>\n",
       "<style scoped>\n",
       "    .dataframe tbody tr th:only-of-type {\n",
       "        vertical-align: middle;\n",
       "    }\n",
       "\n",
       "    .dataframe tbody tr th {\n",
       "        vertical-align: top;\n",
       "    }\n",
       "\n",
       "    .dataframe thead th {\n",
       "        text-align: right;\n",
       "    }\n",
       "</style>\n",
       "<table border=\"1\" class=\"dataframe\">\n",
       "  <thead>\n",
       "    <tr style=\"text-align: right;\">\n",
       "      <th></th>\n",
       "      <th>Daily Time Spent on Site</th>\n",
       "      <th>Age</th>\n",
       "      <th>Area Income</th>\n",
       "      <th>Daily Internet Usage</th>\n",
       "      <th>Ad Topic Line</th>\n",
       "      <th>City</th>\n",
       "      <th>Male</th>\n",
       "      <th>Country</th>\n",
       "      <th>Timestamp</th>\n",
       "      <th>Clicked on Ad</th>\n",
       "    </tr>\n",
       "  </thead>\n",
       "  <tbody>\n",
       "    <tr>\n",
       "      <th>count</th>\n",
       "      <td>1000.000000</td>\n",
       "      <td>1000.000000</td>\n",
       "      <td>1000.000000</td>\n",
       "      <td>1000.000000</td>\n",
       "      <td>1000</td>\n",
       "      <td>1000</td>\n",
       "      <td>1000.000000</td>\n",
       "      <td>1000</td>\n",
       "      <td>1000</td>\n",
       "      <td>1000.00000</td>\n",
       "    </tr>\n",
       "    <tr>\n",
       "      <th>unique</th>\n",
       "      <td>NaN</td>\n",
       "      <td>NaN</td>\n",
       "      <td>NaN</td>\n",
       "      <td>NaN</td>\n",
       "      <td>1000</td>\n",
       "      <td>969</td>\n",
       "      <td>NaN</td>\n",
       "      <td>237</td>\n",
       "      <td>1000</td>\n",
       "      <td>NaN</td>\n",
       "    </tr>\n",
       "    <tr>\n",
       "      <th>top</th>\n",
       "      <td>NaN</td>\n",
       "      <td>NaN</td>\n",
       "      <td>NaN</td>\n",
       "      <td>NaN</td>\n",
       "      <td>Cloned 5thgeneration orchestration</td>\n",
       "      <td>Lisamouth</td>\n",
       "      <td>NaN</td>\n",
       "      <td>France</td>\n",
       "      <td>2016-03-27 00:53:11</td>\n",
       "      <td>NaN</td>\n",
       "    </tr>\n",
       "    <tr>\n",
       "      <th>freq</th>\n",
       "      <td>NaN</td>\n",
       "      <td>NaN</td>\n",
       "      <td>NaN</td>\n",
       "      <td>NaN</td>\n",
       "      <td>1</td>\n",
       "      <td>3</td>\n",
       "      <td>NaN</td>\n",
       "      <td>9</td>\n",
       "      <td>1</td>\n",
       "      <td>NaN</td>\n",
       "    </tr>\n",
       "    <tr>\n",
       "      <th>mean</th>\n",
       "      <td>65.000200</td>\n",
       "      <td>36.009000</td>\n",
       "      <td>55000.000080</td>\n",
       "      <td>180.000100</td>\n",
       "      <td>NaN</td>\n",
       "      <td>NaN</td>\n",
       "      <td>0.481000</td>\n",
       "      <td>NaN</td>\n",
       "      <td>NaN</td>\n",
       "      <td>0.50000</td>\n",
       "    </tr>\n",
       "    <tr>\n",
       "      <th>std</th>\n",
       "      <td>15.853615</td>\n",
       "      <td>8.785562</td>\n",
       "      <td>13414.634022</td>\n",
       "      <td>43.902339</td>\n",
       "      <td>NaN</td>\n",
       "      <td>NaN</td>\n",
       "      <td>0.499889</td>\n",
       "      <td>NaN</td>\n",
       "      <td>NaN</td>\n",
       "      <td>0.50025</td>\n",
       "    </tr>\n",
       "    <tr>\n",
       "      <th>min</th>\n",
       "      <td>32.600000</td>\n",
       "      <td>19.000000</td>\n",
       "      <td>13996.500000</td>\n",
       "      <td>104.780000</td>\n",
       "      <td>NaN</td>\n",
       "      <td>NaN</td>\n",
       "      <td>0.000000</td>\n",
       "      <td>NaN</td>\n",
       "      <td>NaN</td>\n",
       "      <td>0.00000</td>\n",
       "    </tr>\n",
       "    <tr>\n",
       "      <th>25%</th>\n",
       "      <td>51.360000</td>\n",
       "      <td>29.000000</td>\n",
       "      <td>47031.802500</td>\n",
       "      <td>138.830000</td>\n",
       "      <td>NaN</td>\n",
       "      <td>NaN</td>\n",
       "      <td>0.000000</td>\n",
       "      <td>NaN</td>\n",
       "      <td>NaN</td>\n",
       "      <td>0.00000</td>\n",
       "    </tr>\n",
       "    <tr>\n",
       "      <th>50%</th>\n",
       "      <td>68.215000</td>\n",
       "      <td>35.000000</td>\n",
       "      <td>57012.300000</td>\n",
       "      <td>183.130000</td>\n",
       "      <td>NaN</td>\n",
       "      <td>NaN</td>\n",
       "      <td>0.000000</td>\n",
       "      <td>NaN</td>\n",
       "      <td>NaN</td>\n",
       "      <td>0.50000</td>\n",
       "    </tr>\n",
       "    <tr>\n",
       "      <th>75%</th>\n",
       "      <td>78.547500</td>\n",
       "      <td>42.000000</td>\n",
       "      <td>65470.635000</td>\n",
       "      <td>218.792500</td>\n",
       "      <td>NaN</td>\n",
       "      <td>NaN</td>\n",
       "      <td>1.000000</td>\n",
       "      <td>NaN</td>\n",
       "      <td>NaN</td>\n",
       "      <td>1.00000</td>\n",
       "    </tr>\n",
       "    <tr>\n",
       "      <th>max</th>\n",
       "      <td>91.430000</td>\n",
       "      <td>61.000000</td>\n",
       "      <td>79484.800000</td>\n",
       "      <td>269.960000</td>\n",
       "      <td>NaN</td>\n",
       "      <td>NaN</td>\n",
       "      <td>1.000000</td>\n",
       "      <td>NaN</td>\n",
       "      <td>NaN</td>\n",
       "      <td>1.00000</td>\n",
       "    </tr>\n",
       "  </tbody>\n",
       "</table>\n",
       "</div>"
      ],
      "text/plain": [
       "        Daily Time Spent on Site          Age   Area Income  \\\n",
       "count                1000.000000  1000.000000   1000.000000   \n",
       "unique                       NaN          NaN           NaN   \n",
       "top                          NaN          NaN           NaN   \n",
       "freq                         NaN          NaN           NaN   \n",
       "mean                   65.000200    36.009000  55000.000080   \n",
       "std                    15.853615     8.785562  13414.634022   \n",
       "min                    32.600000    19.000000  13996.500000   \n",
       "25%                    51.360000    29.000000  47031.802500   \n",
       "50%                    68.215000    35.000000  57012.300000   \n",
       "75%                    78.547500    42.000000  65470.635000   \n",
       "max                    91.430000    61.000000  79484.800000   \n",
       "\n",
       "        Daily Internet Usage                       Ad Topic Line       City  \\\n",
       "count            1000.000000                                1000       1000   \n",
       "unique                   NaN                                1000        969   \n",
       "top                      NaN  Cloned 5thgeneration orchestration  Lisamouth   \n",
       "freq                     NaN                                   1          3   \n",
       "mean              180.000100                                 NaN        NaN   \n",
       "std                43.902339                                 NaN        NaN   \n",
       "min               104.780000                                 NaN        NaN   \n",
       "25%               138.830000                                 NaN        NaN   \n",
       "50%               183.130000                                 NaN        NaN   \n",
       "75%               218.792500                                 NaN        NaN   \n",
       "max               269.960000                                 NaN        NaN   \n",
       "\n",
       "               Male Country            Timestamp  Clicked on Ad  \n",
       "count   1000.000000    1000                 1000     1000.00000  \n",
       "unique          NaN     237                 1000            NaN  \n",
       "top             NaN  France  2016-03-27 00:53:11            NaN  \n",
       "freq            NaN       9                    1            NaN  \n",
       "mean       0.481000     NaN                  NaN        0.50000  \n",
       "std        0.499889     NaN                  NaN        0.50025  \n",
       "min        0.000000     NaN                  NaN        0.00000  \n",
       "25%        0.000000     NaN                  NaN        0.00000  \n",
       "50%        0.000000     NaN                  NaN        0.50000  \n",
       "75%        1.000000     NaN                  NaN        1.00000  \n",
       "max        1.000000     NaN                  NaN        1.00000  "
      ]
     },
     "execution_count": 4,
     "metadata": {},
     "output_type": "execute_result"
    }
   ],
   "source": [
    "data.describe(include='all')"
   ]
  },
  {
   "cell_type": "markdown",
   "id": "90e5b15c",
   "metadata": {},
   "source": [
    "We have a total data of 1,000 users captured in the dataset, we can be sure that by the time we are done Cleaning the data the remaining data would have dropped through:\n",
    "\n",
    "1. Dropping Null values if any exists,\n",
    "2. Removing Outliers from each columns\n",
    "3. Adusting/improving on data not Normally distributed."
   ]
  },
  {
   "cell_type": "code",
   "execution_count": 5,
   "id": "c81cc632",
   "metadata": {},
   "outputs": [
    {
     "data": {
      "text/plain": [
       "<AxesSubplot:>"
      ]
     },
     "execution_count": 5,
     "metadata": {},
     "output_type": "execute_result"
    },
    {
     "data": {
      "image/png": "[encoded data removed]",
      "text/plain": [
       "<Figure size 864x432 with 2 Axes>"
      ]
     },
     "metadata": {},
     "output_type": "display_data"
    }
   ],
   "source": [
    "plt.figure(figsize=(12,6))\n",
    "sns.heatmap (data.corr(),annot=True, fmt='.0%')"
   ]
  },
  {
   "cell_type": "markdown",
   "id": "122f12a9",
   "metadata": {},
   "source": [
    "From this heatmap, one very strong factor to clicking on the Ad is Age.\n",
    "\n",
    "This implies that Age is a strong determinig factor to either click the Ad or not"
   ]
  },
  {
   "cell_type": "code",
   "execution_count": 6,
   "id": "616ae2c7",
   "metadata": {},
   "outputs": [
    {
     "data": {
      "text/html": [
       "<div>\n",
       "<style scoped>\n",
       "    .dataframe tbody tr th:only-of-type {\n",
       "        vertical-align: middle;\n",
       "    }\n",
       "\n",
       "    .dataframe tbody tr th {\n",
       "        vertical-align: top;\n",
       "    }\n",
       "\n",
       "    .dataframe thead th {\n",
       "        text-align: right;\n",
       "    }\n",
       "</style>\n",
       "<table border=\"1\" class=\"dataframe\">\n",
       "  <thead>\n",
       "    <tr style=\"text-align: right;\">\n",
       "      <th></th>\n",
       "      <th></th>\n",
       "      <th>Age</th>\n",
       "      <th>Area Income</th>\n",
       "      <th>Male</th>\n",
       "      <th>Clicked on Ad</th>\n",
       "    </tr>\n",
       "    <tr>\n",
       "      <th>Daily Time Spent on Site</th>\n",
       "      <th>Daily Internet Usage</th>\n",
       "      <th></th>\n",
       "      <th></th>\n",
       "      <th></th>\n",
       "      <th></th>\n",
       "    </tr>\n",
       "  </thead>\n",
       "  <tbody>\n",
       "    <tr>\n",
       "      <th>68.18</th>\n",
       "      <th>218.17</th>\n",
       "      <td>21.0</td>\n",
       "      <td>48376.14</td>\n",
       "      <td>1.0</td>\n",
       "      <td>0.0</td>\n",
       "    </tr>\n",
       "    <tr>\n",
       "      <th>75.71</th>\n",
       "      <th>246.06</th>\n",
       "      <td>34.0</td>\n",
       "      <td>62109.80</td>\n",
       "      <td>0.0</td>\n",
       "      <td>0.0</td>\n",
       "    </tr>\n",
       "    <tr>\n",
       "      <th>75.74</th>\n",
       "      <th>215.25</th>\n",
       "      <td>25.0</td>\n",
       "      <td>61005.87</td>\n",
       "      <td>1.0</td>\n",
       "      <td>0.0</td>\n",
       "    </tr>\n",
       "    <tr>\n",
       "      <th rowspan=\"2\" valign=\"top\">75.80</th>\n",
       "      <th>146.19</th>\n",
       "      <td>38.0</td>\n",
       "      <td>70575.60</td>\n",
       "      <td>1.0</td>\n",
       "      <td>0.0</td>\n",
       "    </tr>\n",
       "    <tr>\n",
       "      <th>224.90</th>\n",
       "      <td>36.0</td>\n",
       "      <td>71222.40</td>\n",
       "      <td>0.0</td>\n",
       "      <td>0.0</td>\n",
       "    </tr>\n",
       "    <tr>\n",
       "      <th>...</th>\n",
       "      <th>...</th>\n",
       "      <td>...</td>\n",
       "      <td>...</td>\n",
       "      <td>...</td>\n",
       "      <td>...</td>\n",
       "    </tr>\n",
       "    <tr>\n",
       "      <th>56.39</th>\n",
       "      <th>154.23</th>\n",
       "      <td>58.0</td>\n",
       "      <td>32252.38</td>\n",
       "      <td>0.0</td>\n",
       "      <td>1.0</td>\n",
       "    </tr>\n",
       "    <tr>\n",
       "      <th>56.46</th>\n",
       "      <th>151.63</th>\n",
       "      <td>26.0</td>\n",
       "      <td>66187.58</td>\n",
       "      <td>0.0</td>\n",
       "      <td>1.0</td>\n",
       "    </tr>\n",
       "    <tr>\n",
       "      <th>56.57</th>\n",
       "      <th>131.98</th>\n",
       "      <td>26.0</td>\n",
       "      <td>56435.60</td>\n",
       "      <td>0.0</td>\n",
       "      <td>1.0</td>\n",
       "    </tr>\n",
       "    <tr>\n",
       "      <th>55.92</th>\n",
       "      <th>145.08</th>\n",
       "      <td>24.0</td>\n",
       "      <td>33951.63</td>\n",
       "      <td>0.0</td>\n",
       "      <td>1.0</td>\n",
       "    </tr>\n",
       "    <tr>\n",
       "      <th>32.60</th>\n",
       "      <th>185.47</th>\n",
       "      <td>45.0</td>\n",
       "      <td>48206.04</td>\n",
       "      <td>0.0</td>\n",
       "      <td>1.0</td>\n",
       "    </tr>\n",
       "  </tbody>\n",
       "</table>\n",
       "<p>1000 rows × 4 columns</p>\n",
       "</div>"
      ],
      "text/plain": [
       "                                                Age  Area Income  Male  \\\n",
       "Daily Time Spent on Site Daily Internet Usage                            \n",
       "68.18                    218.17                21.0     48376.14   1.0   \n",
       "75.71                    246.06                34.0     62109.80   0.0   \n",
       "75.74                    215.25                25.0     61005.87   1.0   \n",
       "75.80                    146.19                38.0     70575.60   1.0   \n",
       "                         224.90                36.0     71222.40   0.0   \n",
       "...                                             ...          ...   ...   \n",
       "56.39                    154.23                58.0     32252.38   0.0   \n",
       "56.46                    151.63                26.0     66187.58   0.0   \n",
       "56.57                    131.98                26.0     56435.60   0.0   \n",
       "55.92                    145.08                24.0     33951.63   0.0   \n",
       "32.60                    185.47                45.0     48206.04   0.0   \n",
       "\n",
       "                                               Clicked on Ad  \n",
       "Daily Time Spent on Site Daily Internet Usage                 \n",
       "68.18                    218.17                          0.0  \n",
       "75.71                    246.06                          0.0  \n",
       "75.74                    215.25                          0.0  \n",
       "75.80                    146.19                          0.0  \n",
       "                         224.90                          0.0  \n",
       "...                                                      ...  \n",
       "56.39                    154.23                          1.0  \n",
       "56.46                    151.63                          1.0  \n",
       "56.57                    131.98                          1.0  \n",
       "55.92                    145.08                          1.0  \n",
       "32.60                    185.47                          1.0  \n",
       "\n",
       "[1000 rows x 4 columns]"
      ]
     },
     "execution_count": 6,
     "metadata": {},
     "output_type": "execute_result"
    }
   ],
   "source": [
    "data.groupby(['Daily Time Spent on Site','Daily Internet Usage']).mean().sort_values(['Clicked on Ad'], ascending=True)"
   ]
  },
  {
   "cell_type": "markdown",
   "id": "21abbfd4",
   "metadata": {},
   "source": [
    "Checking for outlier in each Numerical columns and ensuring the columns are Normally Distributed"
   ]
  },
  {
   "cell_type": "code",
   "execution_count": 7,
   "id": "5b863e15",
   "metadata": {
    "scrolled": true
   },
   "outputs": [
    {
     "data": {
      "text/html": [
       "<div>\n",
       "<style scoped>\n",
       "    .dataframe tbody tr th:only-of-type {\n",
       "        vertical-align: middle;\n",
       "    }\n",
       "\n",
       "    .dataframe tbody tr th {\n",
       "        vertical-align: top;\n",
       "    }\n",
       "\n",
       "    .dataframe thead th {\n",
       "        text-align: right;\n",
       "    }\n",
       "</style>\n",
       "<table border=\"1\" class=\"dataframe\">\n",
       "  <thead>\n",
       "    <tr style=\"text-align: right;\">\n",
       "      <th></th>\n",
       "      <th>Daily Time Spent on Site</th>\n",
       "      <th>Age</th>\n",
       "      <th>Area Income</th>\n",
       "      <th>Daily Internet Usage</th>\n",
       "      <th>Ad Topic Line</th>\n",
       "      <th>City</th>\n",
       "      <th>Male</th>\n",
       "      <th>Country</th>\n",
       "      <th>Timestamp</th>\n",
       "      <th>Clicked on Ad</th>\n",
       "    </tr>\n",
       "  </thead>\n",
       "  <tbody>\n",
       "    <tr>\n",
       "      <th>0</th>\n",
       "      <td>68.95</td>\n",
       "      <td>35</td>\n",
       "      <td>61833.90</td>\n",
       "      <td>256.09</td>\n",
       "      <td>Cloned 5thgeneration orchestration</td>\n",
       "      <td>Wrightburgh</td>\n",
       "      <td>0</td>\n",
       "      <td>Tunisia</td>\n",
       "      <td>2016-03-27 00:53:11</td>\n",
       "      <td>0</td>\n",
       "    </tr>\n",
       "    <tr>\n",
       "      <th>1</th>\n",
       "      <td>80.23</td>\n",
       "      <td>31</td>\n",
       "      <td>68441.85</td>\n",
       "      <td>193.77</td>\n",
       "      <td>Monitored national standardization</td>\n",
       "      <td>West Jodi</td>\n",
       "      <td>1</td>\n",
       "      <td>Nauru</td>\n",
       "      <td>2016-04-04 01:39:02</td>\n",
       "      <td>0</td>\n",
       "    </tr>\n",
       "  </tbody>\n",
       "</table>\n",
       "</div>"
      ],
      "text/plain": [
       "   Daily Time Spent on Site  Age  Area Income  Daily Internet Usage  \\\n",
       "0                     68.95   35     61833.90                256.09   \n",
       "1                     80.23   31     68441.85                193.77   \n",
       "\n",
       "                        Ad Topic Line         City  Male  Country  \\\n",
       "0  Cloned 5thgeneration orchestration  Wrightburgh     0  Tunisia   \n",
       "1  Monitored national standardization    West Jodi     1    Nauru   \n",
       "\n",
       "             Timestamp  Clicked on Ad  \n",
       "0  2016-03-27 00:53:11              0  \n",
       "1  2016-04-04 01:39:02              0  "
      ]
     },
     "execution_count": 7,
     "metadata": {},
     "output_type": "execute_result"
    }
   ],
   "source": [
    "data.head(2)"
   ]
  },
  {
   "cell_type": "markdown",
   "id": "06c13ab0",
   "metadata": {},
   "source": [
    "Visualizing the numerical columns to ascertain if they are Normally distributed and to be sure we do not have outlier values in each column.\n",
    "\n",
    "The models work better when the numerical columns are:\n",
    "-Normally distributed\n",
    "-No outlier values"
   ]
  },
  {
   "cell_type": "markdown",
   "id": "848c2975",
   "metadata": {},
   "source": [
    "Checking to see if the \"Daily Time Spent on Site\" Column is normally distributed and to ensure there is no outlier on this column"
   ]
  },
  {
   "cell_type": "code",
   "execution_count": 8,
   "id": "90fc7288",
   "metadata": {},
   "outputs": [
    {
     "data": {
      "image/png": "[encoded data removed]",
      "text/plain": [
       "<Figure size 864x432 with 1 Axes>"
      ]
     },
     "metadata": {},
     "output_type": "display_data"
    },
    {
     "data": {
      "image/png": "[encoded data removed]",
      "text/plain": [
       "<Figure size 432x288 with 1 Axes>"
      ]
     },
     "metadata": {},
     "output_type": "display_data"
    }
   ],
   "source": [
    "data['Daily Time Spent on Site'].plot.box(figsize=(12,6))\n",
    "plt.show()\n",
    "sns.distplot(data['Daily Time Spent on Site'])\n",
    "plt.show()"
   ]
  },
  {
   "cell_type": "markdown",
   "id": "672c5674",
   "metadata": {},
   "source": [
    "From the box plot, it is clear that there are no outliers in the \"Daily Time Spent on Site\" \n",
    "and \n",
    "Our Daily time spent on site column is normally distributed.."
   ]
  },
  {
   "cell_type": "markdown",
   "id": "f9da68e3",
   "metadata": {},
   "source": [
    "Checking to see if the Age column is normally distributed and to be sure that there are no outliers in the column"
   ]
  },
  {
   "cell_type": "code",
   "execution_count": 9,
   "id": "dfbe013e",
   "metadata": {},
   "outputs": [
    {
     "data": {
      "image/png": "[encoded data removed]",
      "text/plain": [
       "<Figure size 864x432 with 1 Axes>"
      ]
     },
     "metadata": {},
     "output_type": "display_data"
    },
    {
     "data": {
      "image/png": "[encoded data removed]",
      "text/plain": [
       "<Figure size 432x288 with 1 Axes>"
      ]
     },
     "metadata": {},
     "output_type": "display_data"
    }
   ],
   "source": [
    "data['Age'].plot.box(figsize=(12,6))\n",
    "plt.show()\n",
    "sns.distplot (data['Age'])\n",
    "plt.show()"
   ]
  },
  {
   "cell_type": "markdown",
   "id": "ac94bfb4",
   "metadata": {},
   "source": [
    "From the box plot it is clear that the Age column does not have any outlier\n",
    "and \n",
    "The Age colummn is is also normally distributed"
   ]
  },
  {
   "cell_type": "markdown",
   "id": "23310e59",
   "metadata": {},
   "source": [
    "Checking to see if the Area Income column is normally distributed and to be sure that there are no outliers in the column."
   ]
  },
  {
   "cell_type": "code",
   "execution_count": 10,
   "id": "351ae12e",
   "metadata": {},
   "outputs": [
    {
     "data": {
      "image/png": "[encoded data removed]",
      "text/plain": [
       "<Figure size 864x432 with 1 Axes>"
      ]
     },
     "metadata": {},
     "output_type": "display_data"
    },
    {
     "data": {
      "image/png": "[encoded data removed]",
      "text/plain": [
       "<Figure size 432x288 with 1 Axes>"
      ]
     },
     "metadata": {},
     "output_type": "display_data"
    }
   ],
   "source": [
    "data['Area Income'].plot.box(figsize=(12,6))\n",
    "plt.show()\n",
    "sns.distplot (data['Area Income'])\n",
    "plt.show()"
   ]
  },
  {
   "cell_type": "markdown",
   "id": "9ba91ca8",
   "metadata": {},
   "source": [
    "It is clear that the Area Income column has some outliers in the lower part of the income line,\n",
    "and \n",
    "The Area Income to a large extent can be said to be Normally distributed.\n",
    "\n",
    "We would be dealing with the Outliers in later session as the model works better when there are no outliers in our data."
   ]
  },
  {
   "cell_type": "markdown",
   "id": "477d7518",
   "metadata": {},
   "source": [
    "Checking to see if the Daily Internet usage column is normally distributed and to be sure that there are no outliers in the columns"
   ]
  },
  {
   "cell_type": "code",
   "execution_count": 11,
   "id": "de0366b5",
   "metadata": {},
   "outputs": [
    {
     "data": {
      "image/png": "[encoded data removed]",
      "text/plain": [
       "<Figure size 864x432 with 1 Axes>"
      ]
     },
     "metadata": {},
     "output_type": "display_data"
    },
    {
     "data": {
      "image/png": "[encoded data removed]",
      "text/plain": [
       "<Figure size 432x288 with 1 Axes>"
      ]
     },
     "metadata": {},
     "output_type": "display_data"
    }
   ],
   "source": [
    "data['Daily Internet Usage'].plot.box(figsize=(12,6))\n",
    "plt.show()\n",
    "sns.distplot (data['Daily Internet Usage'])\n",
    "plt.show()"
   ]
  },
  {
   "cell_type": "code",
   "execution_count": 12,
   "id": "28f121f8",
   "metadata": {},
   "outputs": [
    {
     "data": {
      "text/html": [
       "<div>\n",
       "<style scoped>\n",
       "    .dataframe tbody tr th:only-of-type {\n",
       "        vertical-align: middle;\n",
       "    }\n",
       "\n",
       "    .dataframe tbody tr th {\n",
       "        vertical-align: top;\n",
       "    }\n",
       "\n",
       "    .dataframe thead th {\n",
       "        text-align: right;\n",
       "    }\n",
       "</style>\n",
       "<table border=\"1\" class=\"dataframe\">\n",
       "  <thead>\n",
       "    <tr style=\"text-align: right;\">\n",
       "      <th></th>\n",
       "      <th>Daily Time Spent on Site</th>\n",
       "      <th>Age</th>\n",
       "      <th>Area Income</th>\n",
       "      <th>Daily Internet Usage</th>\n",
       "      <th>Ad Topic Line</th>\n",
       "      <th>City</th>\n",
       "      <th>Male</th>\n",
       "      <th>Country</th>\n",
       "      <th>Timestamp</th>\n",
       "      <th>Clicked on Ad</th>\n",
       "    </tr>\n",
       "  </thead>\n",
       "  <tbody>\n",
       "    <tr>\n",
       "      <th>0</th>\n",
       "      <td>68.95</td>\n",
       "      <td>35</td>\n",
       "      <td>61833.90</td>\n",
       "      <td>256.09</td>\n",
       "      <td>Cloned 5thgeneration orchestration</td>\n",
       "      <td>Wrightburgh</td>\n",
       "      <td>0</td>\n",
       "      <td>Tunisia</td>\n",
       "      <td>2016-03-27 00:53:11</td>\n",
       "      <td>0</td>\n",
       "    </tr>\n",
       "    <tr>\n",
       "      <th>1</th>\n",
       "      <td>80.23</td>\n",
       "      <td>31</td>\n",
       "      <td>68441.85</td>\n",
       "      <td>193.77</td>\n",
       "      <td>Monitored national standardization</td>\n",
       "      <td>West Jodi</td>\n",
       "      <td>1</td>\n",
       "      <td>Nauru</td>\n",
       "      <td>2016-04-04 01:39:02</td>\n",
       "      <td>0</td>\n",
       "    </tr>\n",
       "  </tbody>\n",
       "</table>\n",
       "</div>"
      ],
      "text/plain": [
       "   Daily Time Spent on Site  Age  Area Income  Daily Internet Usage  \\\n",
       "0                     68.95   35     61833.90                256.09   \n",
       "1                     80.23   31     68441.85                193.77   \n",
       "\n",
       "                        Ad Topic Line         City  Male  Country  \\\n",
       "0  Cloned 5thgeneration orchestration  Wrightburgh     0  Tunisia   \n",
       "1  Monitored national standardization    West Jodi     1    Nauru   \n",
       "\n",
       "             Timestamp  Clicked on Ad  \n",
       "0  2016-03-27 00:53:11              0  \n",
       "1  2016-04-04 01:39:02              0  "
      ]
     },
     "execution_count": 12,
     "metadata": {},
     "output_type": "execute_result"
    }
   ],
   "source": [
    "data.head(2)"
   ]
  },
  {
   "cell_type": "markdown",
   "id": "efafedea",
   "metadata": {},
   "source": [
    "--HYPOTHESIS:\n",
    "-The total time spent on site is most likely a criteria for a client to either click on Ad.\n",
    "\n",
    "-The Age range determines wether a visitor would either click the Ad or not based on Ad.\n",
    "This means that a client would click on certain Ad based on how it appeals to them by their Age range.\n",
    "\n",
    "-The Area Income of the site visitor is a determinant of the kind/type of Ad the click on.\n",
    "Site visitors who earn more are most likely to click on the Ads that appeal to them based on the Income status.\n",
    "\n",
    "-The Daily Internet usage of a visitor would impact wether they would click an Ad or not.\n",
    "For instance, a visitor might not necessarily click on an Ad the first time but by the time the Ad appears like twice, the visitor is more likely to click the Ad to find out more details regarding the Ad.\n",
    "\n",
    "This could aslo be seen from a different perspective, if the Ad is brought too frequently, the visitor might not be interested in the Ad because of its frequent appearnce/occurrence.\n",
    "\n",
    "-The gender can also impart the kind of Ad a visitor clicks on.\n",
    "An Ad targetted at the female gender is more likely to be engaged by the female gender and vice versa."
   ]
  },
  {
   "cell_type": "code",
   "execution_count": 13,
   "id": "1a64a75a",
   "metadata": {},
   "outputs": [
    {
     "data": {
      "text/html": [
       "<div>\n",
       "<style scoped>\n",
       "    .dataframe tbody tr th:only-of-type {\n",
       "        vertical-align: middle;\n",
       "    }\n",
       "\n",
       "    .dataframe tbody tr th {\n",
       "        vertical-align: top;\n",
       "    }\n",
       "\n",
       "    .dataframe thead th {\n",
       "        text-align: right;\n",
       "    }\n",
       "</style>\n",
       "<table border=\"1\" class=\"dataframe\">\n",
       "  <thead>\n",
       "    <tr style=\"text-align: right;\">\n",
       "      <th></th>\n",
       "      <th>Daily Time Spent on Site</th>\n",
       "      <th>Age</th>\n",
       "      <th>Area Income</th>\n",
       "      <th>Daily Internet Usage</th>\n",
       "      <th>Ad Topic Line</th>\n",
       "      <th>City</th>\n",
       "      <th>Male</th>\n",
       "      <th>Country</th>\n",
       "      <th>Timestamp</th>\n",
       "      <th>Clicked on Ad</th>\n",
       "    </tr>\n",
       "  </thead>\n",
       "  <tbody>\n",
       "    <tr>\n",
       "      <th>0</th>\n",
       "      <td>68.95</td>\n",
       "      <td>35</td>\n",
       "      <td>61833.90</td>\n",
       "      <td>256.09</td>\n",
       "      <td>Cloned 5thgeneration orchestration</td>\n",
       "      <td>Wrightburgh</td>\n",
       "      <td>0</td>\n",
       "      <td>Tunisia</td>\n",
       "      <td>2016-03-27 00:53:11</td>\n",
       "      <td>0</td>\n",
       "    </tr>\n",
       "    <tr>\n",
       "      <th>1</th>\n",
       "      <td>80.23</td>\n",
       "      <td>31</td>\n",
       "      <td>68441.85</td>\n",
       "      <td>193.77</td>\n",
       "      <td>Monitored national standardization</td>\n",
       "      <td>West Jodi</td>\n",
       "      <td>1</td>\n",
       "      <td>Nauru</td>\n",
       "      <td>2016-04-04 01:39:02</td>\n",
       "      <td>0</td>\n",
       "    </tr>\n",
       "  </tbody>\n",
       "</table>\n",
       "</div>"
      ],
      "text/plain": [
       "   Daily Time Spent on Site  Age  Area Income  Daily Internet Usage  \\\n",
       "0                     68.95   35     61833.90                256.09   \n",
       "1                     80.23   31     68441.85                193.77   \n",
       "\n",
       "                        Ad Topic Line         City  Male  Country  \\\n",
       "0  Cloned 5thgeneration orchestration  Wrightburgh     0  Tunisia   \n",
       "1  Monitored national standardization    West Jodi     1    Nauru   \n",
       "\n",
       "             Timestamp  Clicked on Ad  \n",
       "0  2016-03-27 00:53:11              0  \n",
       "1  2016-04-04 01:39:02              0  "
      ]
     },
     "execution_count": 13,
     "metadata": {},
     "output_type": "execute_result"
    }
   ],
   "source": [
    "data.head(2)"
   ]
  },
  {
   "cell_type": "code",
   "execution_count": 14,
   "id": "7cdf73da",
   "metadata": {},
   "outputs": [
    {
     "data": {
      "image/png": "[encoded data removed]",
      "text/plain": [
       "<Figure size 864x432 with 1 Axes>"
      ]
     },
     "metadata": {},
     "output_type": "display_data"
    }
   ],
   "source": [
    "plt.figure(figsize=(12,6))\n",
    "data[data['Clicked on Ad']==1]['Daily Time Spent on Site'].hist(color='black', bins=20, alpha=0.5, label='Yes')\n",
    "data[data['Clicked on Ad']==0]['Daily Time Spent on Site'].hist(color='Red', bins=20, alpha=0.5, label='No')\n",
    "plt.legend()\n",
    "plt.show()"
   ]
  },
  {
   "cell_type": "markdown",
   "id": "ea0b0cf6",
   "metadata": {},
   "source": [
    "From our visualization, it can be inferred that the majority of the visitors who clicked on the Ad are those who spend between 32.6-68.5 seconds.\n",
    "\n",
    "This implies that our major target ranges from visitors who spent around 1-minute on the site.\n",
    "\n",
    "This means, a very good time to introduce our Ad is within the first minutes on the site."
   ]
  },
  {
   "cell_type": "code",
   "execution_count": 15,
   "id": "105c1926",
   "metadata": {},
   "outputs": [],
   "source": [
    "# data[data['Clicked on Ad']==1]['Daily Time Spent on Site'].max()"
   ]
  },
  {
   "cell_type": "code",
   "execution_count": 16,
   "id": "84c87639",
   "metadata": {},
   "outputs": [
    {
     "data": {
      "image/png": "[encoded data removed]",
      "text/plain": [
       "<Figure size 864x432 with 1 Axes>"
      ]
     },
     "metadata": {},
     "output_type": "display_data"
    }
   ],
   "source": [
    "plt.figure(figsize=(12,6))\n",
    "data[data['Clicked on Ad']==1]['Age'].hist(color='black', bins=20, alpha=0.5, label='Yes')\n",
    "data[data['Clicked on Ad']==0]['Age'].hist(color='Red', bins=20, alpha=0.5, label='No')\n",
    "plt.legend()\n",
    "plt.show()"
   ]
  },
  {
   "cell_type": "markdown",
   "id": "8374323b",
   "metadata": {},
   "source": [
    "From our visualization, it can be inferred that the majority of the visitors who clicked on the Ad are from in their mid-30's and above.\n",
    "\n",
    "This implies that these set of people are our major/target visitors.\n",
    "\n",
    "We can increase our audience by introducing Ads that would catch the attention of those in lower Age range and by still giving more attention to our major targets."
   ]
  },
  {
   "cell_type": "code",
   "execution_count": 17,
   "id": "374f12a5",
   "metadata": {},
   "outputs": [
    {
     "data": {
      "image/png": "[encoded data removed]",
      "text/plain": [
       "<Figure size 864x432 with 1 Axes>"
      ]
     },
     "metadata": {},
     "output_type": "display_data"
    }
   ],
   "source": [
    "plt.figure(figsize=(12,6))\n",
    "data[data['Clicked on Ad']==1]['Area Income'].hist(color='black', bins=20, alpha=0.5, label='Yes')\n",
    "data[data['Clicked on Ad']==0]['Area Income'].hist(color='Red', bins=20, alpha=0.5, label='No')\n",
    "plt.legend()\n",
    "plt.show()"
   ]
  },
  {
   "cell_type": "markdown",
   "id": "9e568057",
   "metadata": {},
   "source": [
    "From the visualization, we can infer that the Area Income of those who are sure to click the Ad is from the Lower to the medium Income earners.\n",
    "\n",
    "As opposed to our hypothesis where we assumed that the High earners are more likely to click the Ad.\n",
    "\n",
    "We can observe that we have some high earners clicking the Ad but we have majority of our Ad clickers between the Low and Medium earners"
   ]
  },
  {
   "cell_type": "code",
   "execution_count": 18,
   "id": "8483ca60",
   "metadata": {},
   "outputs": [],
   "source": [
    "# plt.figure(figsize=(12,6))\n",
    "# data[data['Male']==0]['Daily Time Spent on Site'].hist(color='red', alpha=0.75, bins=20)\n",
    "# data[data['Male']==1]['Daily Time Spent on Site'].hist(color='blue', alpha=0.75, bins=20)"
   ]
  },
  {
   "cell_type": "code",
   "execution_count": 19,
   "id": "6b6d9647",
   "metadata": {},
   "outputs": [
    {
     "data": {
      "image/png": "[encoded data removed]",
      "text/plain": [
       "<Figure size 432x288 with 1 Axes>"
      ]
     },
     "metadata": {},
     "output_type": "display_data"
    }
   ],
   "source": [
    "sns.barplot (x=data['Male'],y=data['Daily Time Spent on Site'], hue=data['Clicked on Ad'])\n",
    "plt.show()\n",
    "# sns.countplot(x=data['Clicked on Ad'], hue=data['Male'])\n",
    "# plt.show()"
   ]
  },
  {
   "cell_type": "markdown",
   "id": "044612c0",
   "metadata": {},
   "source": [
    "Cheching the dataset to confirm if there are missing values and dealing with the missing values if they exist"
   ]
  },
  {
   "cell_type": "code",
   "execution_count": 20,
   "id": "81f3feaa",
   "metadata": {},
   "outputs": [
    {
     "data": {
      "text/plain": [
       "Daily Time Spent on Site    0\n",
       "Age                         0\n",
       "Area Income                 0\n",
       "Daily Internet Usage        0\n",
       "Ad Topic Line               0\n",
       "City                        0\n",
       "Male                        0\n",
       "Country                     0\n",
       "Timestamp                   0\n",
       "Clicked on Ad               0\n",
       "dtype: int64"
      ]
     },
     "execution_count": 20,
     "metadata": {},
     "output_type": "execute_result"
    }
   ],
   "source": [
    "data.isnull().sum()"
   ]
  },
  {
   "cell_type": "markdown",
   "id": "e9749399",
   "metadata": {},
   "source": [
    "There are no missing values in the dataset"
   ]
  },
  {
   "cell_type": "markdown",
   "id": "fb84da51",
   "metadata": {},
   "source": [
    "Removing Outlier from the numerical column as the presence of outlier(s) can impact the performance of our model"
   ]
  },
  {
   "cell_type": "code",
   "execution_count": 21,
   "id": "69f1b2c1",
   "metadata": {},
   "outputs": [],
   "source": [
    "data.drop ((data[data['Area Income']<20000]).index, inplace=True)"
   ]
  },
  {
   "cell_type": "code",
   "execution_count": 22,
   "id": "b3ebf041",
   "metadata": {},
   "outputs": [
    {
     "data": {
      "text/html": [
       "<div>\n",
       "<style scoped>\n",
       "    .dataframe tbody tr th:only-of-type {\n",
       "        vertical-align: middle;\n",
       "    }\n",
       "\n",
       "    .dataframe tbody tr th {\n",
       "        vertical-align: top;\n",
       "    }\n",
       "\n",
       "    .dataframe thead th {\n",
       "        text-align: right;\n",
       "    }\n",
       "</style>\n",
       "<table border=\"1\" class=\"dataframe\">\n",
       "  <thead>\n",
       "    <tr style=\"text-align: right;\">\n",
       "      <th></th>\n",
       "      <th>Daily Time Spent on Site</th>\n",
       "      <th>Age</th>\n",
       "      <th>Area Income</th>\n",
       "      <th>Daily Internet Usage</th>\n",
       "      <th>Ad Topic Line</th>\n",
       "      <th>City</th>\n",
       "      <th>Male</th>\n",
       "      <th>Country</th>\n",
       "      <th>Timestamp</th>\n",
       "      <th>Clicked on Ad</th>\n",
       "    </tr>\n",
       "  </thead>\n",
       "  <tbody>\n",
       "    <tr>\n",
       "      <th>0</th>\n",
       "      <td>68.95</td>\n",
       "      <td>35</td>\n",
       "      <td>61833.90</td>\n",
       "      <td>256.09</td>\n",
       "      <td>Cloned 5thgeneration orchestration</td>\n",
       "      <td>Wrightburgh</td>\n",
       "      <td>0</td>\n",
       "      <td>Tunisia</td>\n",
       "      <td>2016-03-27 00:53:11</td>\n",
       "      <td>0</td>\n",
       "    </tr>\n",
       "    <tr>\n",
       "      <th>1</th>\n",
       "      <td>80.23</td>\n",
       "      <td>31</td>\n",
       "      <td>68441.85</td>\n",
       "      <td>193.77</td>\n",
       "      <td>Monitored national standardization</td>\n",
       "      <td>West Jodi</td>\n",
       "      <td>1</td>\n",
       "      <td>Nauru</td>\n",
       "      <td>2016-04-04 01:39:02</td>\n",
       "      <td>0</td>\n",
       "    </tr>\n",
       "  </tbody>\n",
       "</table>\n",
       "</div>"
      ],
      "text/plain": [
       "   Daily Time Spent on Site  Age  Area Income  Daily Internet Usage  \\\n",
       "0                     68.95   35     61833.90                256.09   \n",
       "1                     80.23   31     68441.85                193.77   \n",
       "\n",
       "                        Ad Topic Line         City  Male  Country  \\\n",
       "0  Cloned 5thgeneration orchestration  Wrightburgh     0  Tunisia   \n",
       "1  Monitored national standardization    West Jodi     1    Nauru   \n",
       "\n",
       "             Timestamp  Clicked on Ad  \n",
       "0  2016-03-27 00:53:11              0  \n",
       "1  2016-04-04 01:39:02              0  "
      ]
     },
     "execution_count": 22,
     "metadata": {},
     "output_type": "execute_result"
    }
   ],
   "source": [
    "data.head(2)"
   ]
  },
  {
   "cell_type": "code",
   "execution_count": 23,
   "id": "e57a2366",
   "metadata": {},
   "outputs": [
    {
     "name": "stdout",
     "output_type": "stream",
     "text": [
      "Unique Number of Ad Topic =  990\n",
      "Unique Number of City =  959\n",
      "Unique Number of Country =  237\n"
     ]
    }
   ],
   "source": [
    "print ('Unique Number of Ad Topic = ', data['Ad Topic Line'].nunique())\n",
    "print ('Unique Number of City = ',data['City'].nunique())\n",
    "print ('Unique Number of Country = ',data['Country'].nunique())"
   ]
  },
  {
   "cell_type": "markdown",
   "id": "cd617360",
   "metadata": {},
   "source": [
    "I would be dropping the \"Ad Topi Line\", \"City\" and \"Timestamp\" Column due to their number of unique value present in each column"
   ]
  },
  {
   "cell_type": "code",
   "execution_count": 24,
   "id": "541d16bb",
   "metadata": {},
   "outputs": [],
   "source": [
    "data1 = data.drop (['Ad Topic Line', 'City','Timestamp','Country'], axis=1)"
   ]
  },
  {
   "cell_type": "markdown",
   "id": "4babd0b0",
   "metadata": {},
   "source": [
    "Model Building"
   ]
  },
  {
   "cell_type": "code",
   "execution_count": 25,
   "id": "0a2a6a97",
   "metadata": {},
   "outputs": [],
   "source": [
    "# data2 = pd.get_dummies (data1['Country'])"
   ]
  },
  {
   "cell_type": "code",
   "execution_count": 26,
   "id": "09b185d7",
   "metadata": {},
   "outputs": [],
   "source": [
    "# data3 = data1.drop(['Country'], axis=1)"
   ]
  },
  {
   "cell_type": "code",
   "execution_count": 27,
   "id": "98354f0e",
   "metadata": {},
   "outputs": [
    {
     "data": {
      "text/html": [
       "<div>\n",
       "<style scoped>\n",
       "    .dataframe tbody tr th:only-of-type {\n",
       "        vertical-align: middle;\n",
       "    }\n",
       "\n",
       "    .dataframe tbody tr th {\n",
       "        vertical-align: top;\n",
       "    }\n",
       "\n",
       "    .dataframe thead th {\n",
       "        text-align: right;\n",
       "    }\n",
       "</style>\n",
       "<table border=\"1\" class=\"dataframe\">\n",
       "  <thead>\n",
       "    <tr style=\"text-align: right;\">\n",
       "      <th></th>\n",
       "      <th>Daily Time Spent on Site</th>\n",
       "      <th>Age</th>\n",
       "      <th>Area Income</th>\n",
       "      <th>Daily Internet Usage</th>\n",
       "      <th>Male</th>\n",
       "      <th>Clicked on Ad</th>\n",
       "    </tr>\n",
       "  </thead>\n",
       "  <tbody>\n",
       "    <tr>\n",
       "      <th>0</th>\n",
       "      <td>68.95</td>\n",
       "      <td>35</td>\n",
       "      <td>61833.90</td>\n",
       "      <td>256.09</td>\n",
       "      <td>0</td>\n",
       "      <td>0</td>\n",
       "    </tr>\n",
       "    <tr>\n",
       "      <th>1</th>\n",
       "      <td>80.23</td>\n",
       "      <td>31</td>\n",
       "      <td>68441.85</td>\n",
       "      <td>193.77</td>\n",
       "      <td>1</td>\n",
       "      <td>0</td>\n",
       "    </tr>\n",
       "  </tbody>\n",
       "</table>\n",
       "</div>"
      ],
      "text/plain": [
       "   Daily Time Spent on Site  Age  Area Income  Daily Internet Usage  Male  \\\n",
       "0                     68.95   35     61833.90                256.09     0   \n",
       "1                     80.23   31     68441.85                193.77     1   \n",
       "\n",
       "   Clicked on Ad  \n",
       "0              0  \n",
       "1              0  "
      ]
     },
     "execution_count": 27,
     "metadata": {},
     "output_type": "execute_result"
    }
   ],
   "source": [
    "data1.head(2)"
   ]
  },
  {
   "cell_type": "code",
   "execution_count": 28,
   "id": "9a27ab6d",
   "metadata": {},
   "outputs": [],
   "source": [
    "# data4 = pd.concat([data2,data3],axis=1)"
   ]
  },
  {
   "cell_type": "code",
   "execution_count": 29,
   "id": "ea9c737f",
   "metadata": {},
   "outputs": [],
   "source": [
    "x = data1.drop(['Clicked on Ad'],axis=1)\n",
    "y = data1['Clicked on Ad']"
   ]
  },
  {
   "cell_type": "code",
   "execution_count": 30,
   "id": "5edf5d7c",
   "metadata": {},
   "outputs": [],
   "source": [
    "from sklearn.preprocessing import StandardScaler\n",
    "sc_x = StandardScaler()\n",
    "sc_x.fit (x)\n",
    "x_scaled = sc_x.transform (x)"
   ]
  },
  {
   "cell_type": "code",
   "execution_count": 31,
   "id": "3b4cb381",
   "metadata": {},
   "outputs": [],
   "source": [
    "from sklearn.model_selection import train_test_split\n",
    "x_train, x_test, y_train, y_test = train_test_split (x_scaled, y, test_size=0.3, random_state=100)"
   ]
  },
  {
   "cell_type": "code",
   "execution_count": 32,
   "id": "d473ef76",
   "metadata": {
    "scrolled": false
   },
   "outputs": [
    {
     "data": {
      "text/plain": [
       "LogisticRegression()"
      ]
     },
     "execution_count": 32,
     "metadata": {},
     "output_type": "execute_result"
    }
   ],
   "source": [
    "from sklearn.linear_model import LogisticRegression\n",
    "log_reg = LogisticRegression(penalty='l2',tol=0.0001, C=1.0)\n",
    "log_reg.fit (x_train, y_train)"
   ]
  },
  {
   "cell_type": "code",
   "execution_count": 33,
   "id": "407a1631",
   "metadata": {},
   "outputs": [
    {
     "data": {
      "text/plain": [
       "GridSearchCV(estimator=LogisticRegression(),\n",
       "             param_grid={'C': [1.0, 2.0, 3.0, 4.0, 5.0], 'penalty': ['l2'],\n",
       "                         'tol': [0.0001, 0.01, 0.1, 1, 2, 5, 10]})"
      ]
     },
     "execution_count": 33,
     "metadata": {},
     "output_type": "execute_result"
    }
   ],
   "source": [
    "from sklearn.model_selection import GridSearchCV\n",
    "parameters = ({'penalty':['l2'],'C':[1.0,2.0,3.0,4.0,5.0],'tol':[0.0001,0.01,0.1,1,2,5,10]})\n",
    "\n",
    "grid_search = GridSearchCV(estimator=LogisticRegression(), param_grid=parameters)\n",
    "grid_search.fit(x_train, y_train)"
   ]
  },
  {
   "cell_type": "code",
   "execution_count": 34,
   "id": "7cd86e5b",
   "metadata": {},
   "outputs": [
    {
     "name": "stdout",
     "output_type": "stream",
     "text": [
      "{'C': 1.0, 'penalty': 'l2', 'tol': 2}\n",
      "0.9726097382963195\n"
     ]
    }
   ],
   "source": [
    "print(grid_search.best_params_)\n",
    "print(grid_search.best_score_)"
   ]
  },
  {
   "cell_type": "code",
   "execution_count": 35,
   "id": "0666b66c",
   "metadata": {},
   "outputs": [
    {
     "data": {
      "text/plain": [
       "LogisticRegression(C=5.0)"
      ]
     },
     "execution_count": 35,
     "metadata": {},
     "output_type": "execute_result"
    }
   ],
   "source": [
    "from sklearn.linear_model import LogisticRegression\n",
    "log_reg = LogisticRegression(penalty='l2',tol=0.0001, C=5.0)\n",
    "log_reg.fit (x_train, y_train)"
   ]
  },
  {
   "cell_type": "code",
   "execution_count": 36,
   "id": "9f5b96f6",
   "metadata": {},
   "outputs": [],
   "source": [
    "y_pred = log_reg.predict (x_test)"
   ]
  },
  {
   "cell_type": "code",
   "execution_count": 37,
   "id": "3c99025c",
   "metadata": {
    "scrolled": true
   },
   "outputs": [
    {
     "data": {
      "text/plain": [
       "array([0.95959596, 0.97306397, 0.97306397, 0.96632997, 0.98653199])"
      ]
     },
     "execution_count": 37,
     "metadata": {},
     "output_type": "execute_result"
    }
   ],
   "source": [
    "from sklearn.model_selection import ShuffleSplit, cross_val_score\n",
    "cv = ShuffleSplit (n_splits=5, test_size=0.3, random_state=100)\n",
    "cross_val_score (estimator=LogisticRegression(), X=x_scaled, y=y, cv=cv)"
   ]
  },
  {
   "cell_type": "code",
   "execution_count": 38,
   "id": "a0db8c6b",
   "metadata": {},
   "outputs": [],
   "source": [
    "from sklearn.ensemble import RandomForestClassifier\n",
    "forest = RandomForestClassifier(n_estimators=100)\n",
    "forest.fit (x_train, y_train)\n",
    "forest_pred = forest.predict (x_test)"
   ]
  },
  {
   "cell_type": "code",
   "execution_count": 39,
   "id": "565f4596",
   "metadata": {},
   "outputs": [
    {
     "data": {
      "text/plain": [
       "GridSearchCV(estimator=RandomForestClassifier(),\n",
       "             param_grid={'criterion': ['gini', 'entropy'],\n",
       "                         'n_estimators': [100, 120, 150, 180, 200, 220, 250]})"
      ]
     },
     "execution_count": 39,
     "metadata": {},
     "output_type": "execute_result"
    }
   ],
   "source": [
    "from sklearn.model_selection import GridSearchCV\n",
    "parameters = ({'n_estimators':[100, 120, 150, 180, 200,220,250],'criterion':['gini', 'entropy']})\n",
    "\n",
    "grid_search = GridSearchCV(estimator=RandomForestClassifier(), param_grid=parameters)\n",
    "grid_search.fit(x_train, y_train)"
   ]
  },
  {
   "cell_type": "code",
   "execution_count": 40,
   "id": "38ec304f",
   "metadata": {},
   "outputs": [
    {
     "name": "stdout",
     "output_type": "stream",
     "text": [
      "{'criterion': 'entropy', 'n_estimators': 120}\n",
      "0.965415493692003\n"
     ]
    }
   ],
   "source": [
    "print(grid_search.best_params_)\n",
    "print(grid_search.best_score_)"
   ]
  },
  {
   "cell_type": "code",
   "execution_count": 41,
   "id": "651bb09a",
   "metadata": {},
   "outputs": [],
   "source": [
    "# Implementing our best Parameters\n",
    "from sklearn.ensemble import RandomForestClassifier\n",
    "forest_param = RandomForestClassifier(n_estimators=120, criterion='entropy')\n",
    "forest_param.fit (x_train, y_train)\n",
    "forest_param_pred = forest_param.predict (x_test)"
   ]
  },
  {
   "cell_type": "code",
   "execution_count": 42,
   "id": "13aa76ae",
   "metadata": {},
   "outputs": [
    {
     "data": {
      "text/plain": [
       "array([0.95622896, 0.97306397, 0.94949495, 0.96969697, 0.95286195])"
      ]
     },
     "execution_count": 42,
     "metadata": {},
     "output_type": "execute_result"
    }
   ],
   "source": [
    "from sklearn.model_selection import ShuffleSplit, cross_val_score\n",
    "cv = ShuffleSplit (n_splits=5, test_size=0.3, random_state=0)\n",
    "cross_val_score (estimator=RandomForestClassifier(), X=x_scaled, y=y, cv=cv)"
   ]
  },
  {
   "cell_type": "code",
   "execution_count": 43,
   "id": "663d11f0",
   "metadata": {},
   "outputs": [
    {
     "name": "stdout",
     "output_type": "stream",
     "text": [
      "Classification_Report               precision    recall  f1-score   support\n",
      "\n",
      "           0       0.97      0.95      0.96       153\n",
      "           1       0.95      0.97      0.96       144\n",
      "\n",
      "    accuracy                           0.96       297\n",
      "   macro avg       0.96      0.96      0.96       297\n",
      "weighted avg       0.96      0.96      0.96       297\n",
      "\n",
      "Accuracy_Score 0.9595959595959596\n"
     ]
    },
    {
     "data": {
      "text/plain": [
       "<AxesSubplot:>"
      ]
     },
     "execution_count": 43,
     "metadata": {},
     "output_type": "execute_result"
    },
    {
     "data": {
      "image/png": "[encoded data removed]",
      "text/plain": [
       "<Figure size 432x288 with 2 Axes>"
      ]
     },
     "metadata": {},
     "output_type": "display_data"
    }
   ],
   "source": [
    "from sklearn.metrics import classification_report, accuracy_score, confusion_matrix\n",
    "print('Classification_Report', classification_report(y_test, forest_pred))\n",
    "\n",
    "print('Accuracy_Score', accuracy_score(y_test, forest_pred))\n",
    "\n",
    "conf_mat = confusion_matrix(y_test, forest_pred)\n",
    "sns.heatmap (conf_mat,annot=True)"
   ]
  },
  {
   "cell_type": "code",
   "execution_count": 45,
   "id": "d44eada4",
   "metadata": {},
   "outputs": [
    {
     "data": {
      "text/plain": [
       "<AxesSubplot:>"
      ]
     },
     "execution_count": 45,
     "metadata": {},
     "output_type": "execute_result"
    },
    {
     "data": {
      "image/png": "[encoded data removed]",
      "text/plain": [
       "<Figure size 864x576 with 1 Axes>"
      ]
     },
     "metadata": {},
     "output_type": "display_data"
    }
   ],
   "source": [
    "plt.figure(figsize=(12,6))\n",
    "importances=pd.Series(forest.feature_importances_, index=x.columns)\n",
    "importances.plot(kind='barh', figsize=(12,8))"
   ]
  },
  {
   "cell_type": "markdown",
   "id": "d38401be",
   "metadata": {},
   "source": [
    "From our RandomForest Classifier Model, it is evident that the \"Daily Internet Usage\" and \"Daily Time Spent on Site\" respectively are major factor that determines if a visitor would click on the Ad or not."
   ]
  },
  {
   "cell_type": "code",
   "execution_count": 58,
   "id": "c36756b7",
   "metadata": {},
   "outputs": [
    {
     "data": {
      "text/plain": [
       "array([0], dtype=int64)"
      ]
     },
     "execution_count": 58,
     "metadata": {},
     "output_type": "execute_result"
    }
   ],
   "source": [
    "forest.predict([[0.244768,-0.111743,0.499440,1.727402,-0.960380]])\n",
    "# pd.DataFrame (x_scaled).head(2)\n",
    "# y.head(2)"
   ]
  }
 ],
 "metadata": {
  "kernelspec": {
   "display_name": "Python 3 (ipykernel)",
   "language": "python",
   "name": "python3"
  },
  "language_info": {
   "codemirror_mode": {
    "name": "ipython",
    "version": 3
   },
   "file_extension": ".py",
   "mimetype": "text/x-python",
   "name": "python",
   "nbconvert_exporter": "python",
   "pygments_lexer": "ipython3",
   "version": "3.9.7"
  }
 },
 "nbformat": 4,
 "nbformat_minor": 5
}
